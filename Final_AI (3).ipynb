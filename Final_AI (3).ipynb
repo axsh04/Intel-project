{
 "cells": [
  {
   "cell_type": "code",
   "execution_count": 1,
   "id": "0512a741-a361-4072-9164-b19d1550ae6d",
   "metadata": {},
   "outputs": [],
   "source": [
    "import gradio as gr\n",
    "import whisper\n",
    "from gtts import gTTS\n",
    "import requests\n",
    "import tempfile\n",
    "import base64\n",
    "import os\n",
    "import re"
   ]
  },
  {
   "cell_type": "code",
   "execution_count": 2,
   "id": "14a7aa12-ba65-4e90-978c-770d116d2a7c",
   "metadata": {},
   "outputs": [],
   "source": [
    "#Load environment variables from .env\n",
    "from dotenv import load_dotenv\n",
    "load_dotenv()\n",
    "API_KEY = os.getenv(\"OPENROUTER_API_KEY\")"
   ]
  },
  {
   "cell_type": "code",
   "execution_count": 3,
   "id": "29fb4030-0d10-48bf-8eb6-360e14b20722",
   "metadata": {},
   "outputs": [],
   "source": [
    "# Load Whisper model\n",
    "whisper_model = whisper.load_model(\"base\")"
   ]
  },
  {
   "cell_type": "code",
   "execution_count": 4,
   "id": "a827ef80-945c-4037-81f8-d30055bdd175",
   "metadata": {},
   "outputs": [],
   "source": [
    "def initialize_messages():\n",
    "    return [{\n",
    "        \"role\": \"system\",\n",
    "        \"content\": (\n",
    "            \"You are an AI teacher built for classrooms. Answer with examples, analogies, and help students learn. \"\n",
    "            \"Also, suggest relevant images and YouTube video links where appropriate.\"\n",
    "            \"Respond without using symbols like @, #, %, $, &, *, etc.\"\n",
    "\n",
    "        )\n",
    "    }]\n",
    "\n",
    "messages_prmt = initialize_messages()"
   ]
  },
  {
   "cell_type": "code",
   "execution_count": 5,
   "id": "e0b5e500-134e-415c-819e-8de2b26f4679",
   "metadata": {},
   "outputs": [],
   "source": [
    "# Clean unwanted symbols from text\n",
    "def clean_text(text):\n",
    "    # Remove symbols like @, #, $, %, ^, &, *, etc.\n",
    "    return re.sub(r'[^\\w\\s.,!?]', '', text)"
   ]
  },
  {
   "cell_type": "code",
   "execution_count": 6,
   "id": "05a092ed-0b35-425c-9a49-38285bd40e1f",
   "metadata": {},
   "outputs": [],
   "source": [
    "# Convert text to base64 audio\n",
    "def text_to_base64_audio(text):\n",
    "    cleaned_text = clean_text(text)\n",
    "    tts = gTTS(cleaned_text)\n",
    "    with tempfile.NamedTemporaryFile(delete=False, suffix=\".mp3\") as temp_audio:\n",
    "        tts.save(temp_audio.name)\n",
    "        audio_data = open(temp_audio.name, \"rb\").read()\n",
    "    os.remove(temp_audio.name)\n",
    "    return base64.b64encode(audio_data).decode(\"utf-8\")"
   ]
  },
  {
   "cell_type": "code",
   "execution_count": 7,
   "id": "0e52e83d-f012-4ad5-a929-06d3709204b4",
   "metadata": {},
   "outputs": [],
   "source": [
    "# Get YouTube video search link\n",
    "def get_youtube_search_link(query):\n",
    "    return f\"https://www.youtube.com/results?search_query={query.replace(' ', '+')}\""
   ]
  },
  {
   "cell_type": "code",
   "execution_count": 8,
   "id": "0baf559c-d152-4f14-aa84-d02d7a606321",
   "metadata": {},
   "outputs": [],
   "source": [
    "# Get Unsplash or DuckDuckGo image search link\n",
    "def get_image_search_link(query):\n",
    "    return f\"https://duckduckgo.com/?q={query.replace(' ', '+')}&iax=images&ia=images\""
   ]
  },
  {
   "cell_type": "code",
   "execution_count": 9,
   "id": "c445f141-9c6d-447f-b9ac-42a06e724389",
   "metadata": {},
   "outputs": [],
   "source": [
    "# Main logic\n",
    "def ai_teacher(audio_input, text_input):\n",
    "    global messages_prmt\n",
    "\n",
    "    user_query = \"\"\n",
    "\n",
    "    # Handle voice\n",
    "    if audio_input:\n",
    "        transcription = whisper_model.transcribe(audio_input)[\"text\"]\n",
    "        user_query = transcription.strip()\n",
    "    elif text_input:\n",
    "        user_query = text_input.strip()\n",
    "    else:\n",
    "        return \"<p>Please provide either voice or text input.</p>\"\n",
    "\n",
    "    messages_prmt.append({\"role\": \"user\", \"content\": user_query})\n",
    "\n",
    "    # Call OpenRouter API\n",
    "    headers = {\n",
    "        \"Authorization\": f\"Bearer {API_KEY}\",\n",
    "        \"Content-Type\": \"application/json\"\n",
    "    }\n",
    "    data = {\n",
    "        \"model\": \"deepseek/deepseek-r1-0528:free\",\n",
    "        \"messages\": messages_prmt\n",
    "    }\n",
    "    response = requests.post(\"https://openrouter.ai/api/v1/chat/completions\", headers=headers, json=data)\n",
    "    result = response.json()\n",
    "\n",
    "    if \"choices\" not in result:\n",
    "        return \"<p>Error: OpenRouter did not return a response.</p>\"\n",
    "\n",
    "    bot_reply = result[\"choices\"][0][\"message\"][\"content\"]\n",
    "    messages_prmt.append({\"role\": \"assistant\", \"content\": bot_reply})\n",
    "\n",
    "    # Audio conversion\n",
    "    b64_audio = text_to_base64_audio(bot_reply)\n",
    "\n",
    "    # Search links\n",
    "    youtube_link = get_youtube_search_link(user_query)\n",
    "    image_link = get_image_search_link(user_query)\n",
    "\n",
    "    # Format readable HTML output\n",
    "    html = f\"\"\"\n",
    "    <div style=\"font-family: Arial; line-height: 1.6;\">\n",
    "        <p><strong>🧑‍🎓 You asked:</strong> {user_query}</p>\n",
    "        <p><strong>🧠 AI explains:</strong></p>\n",
    "        <div style=\"background-color:#000000; padding: 12px; border-left: 4px solid #4CAF50; white-space: pre-wrap;\">\n",
    "            {bot_reply}\n",
    "        </div>\n",
    "        <p><strong>🔉 Listen to the answer:</strong></p>\n",
    "        <audio autoplay controls style=\"width: 100%;\">\n",
    "            <source src=\"data:audio/mp3;base64,{b64_audio}\" type=\"audio/mp3\">\n",
    "            Your browser does not support the audio element.\n",
    "        </audio>\n",
    "        <p><strong>🖼 Related Images:</strong> <a href=\"{image_link}\" target=\"_blank\">View Image Search</a></p>\n",
    "        <p><strong>🎥 Related Videos:</strong> <a href=\"{youtube_link}\" target=\"_blank\">Watch on YouTube</a></p>\n",
    "    </div>\n",
    "    \"\"\"\n",
    "\n",
    "    return html"
   ]
  },
  {
   "cell_type": "code",
   "execution_count": 10,
   "id": "7891c27d-23ef-497e-b0ec-aa1c1b7da56a",
   "metadata": {},
   "outputs": [
    {
     "name": "stdout",
     "output_type": "stream",
     "text": [
      "* Running on local URL:  http://127.0.0.1:7861\n",
      "\n",
      "Could not create share link. Please check your internet connection or our status page: https://status.gradio.app.\n"
     ]
    },
    {
     "data": {
      "text/html": [
       "<div><iframe src=\"http://127.0.0.1:7861/\" width=\"100%\" height=\"500\" allow=\"autoplay; camera; microphone; clipboard-read; clipboard-write;\" frameborder=\"0\" allowfullscreen></iframe></div>"
      ],
      "text/plain": [
       "<IPython.core.display.HTML object>"
      ]
     },
     "metadata": {},
     "output_type": "display_data"
    },
    {
     "data": {
      "text/plain": []
     },
     "execution_count": 10,
     "metadata": {},
     "output_type": "execute_result"
    }
   ],
   "source": [
    "# Gradio Interface\n",
    "iface = gr.Interface(\n",
    "    fn=ai_teacher,\n",
    "    inputs=[\n",
    "    gr.Audio(type=\"filepath\", label=\"Speak your question (optional)\"),\n",
    "    gr.Textbox(placeholder=\"Or type your question here...\", label=\"Text input (optional)\")\n",
    "    ],\n",
    "    outputs=gr.HTML(),\n",
    "    title=\"AI Classroom Voice & Text Teacher\",\n",
    "    description=\"Ask a question by voice or text. Get a spoken answer, readable text, and links to visuals.\",\n",
    ")\n",
    "\n",
    "iface.launch(share=True)"
   ]
  },
  {
   "cell_type": "code",
   "execution_count": null,
   "id": "36612735-050d-4689-a9a9-8b6aba0a52b9",
   "metadata": {},
   "outputs": [],
   "source": []
  },
  {
   "cell_type": "code",
   "execution_count": null,
   "id": "f6d62008-0034-4535-87bd-cc3a86106ba6",
   "metadata": {},
   "outputs": [],
   "source": []
  }
 ],
 "metadata": {
  "kernelspec": {
   "display_name": "Python (class-env)",
   "language": "python",
   "name": "class_env"
  },
  "language_info": {
   "codemirror_mode": {
    "name": "ipython",
    "version": 3
   },
   "file_extension": ".py",
   "mimetype": "text/x-python",
   "name": "python",
   "nbconvert_exporter": "python",
   "pygments_lexer": "ipython3",
   "version": "3.12.2"
  }
 },
 "nbformat": 4,
 "nbformat_minor": 5
}
