{
 "cells": [
  {
   "cell_type": "code",
   "execution_count": 1,
   "id": "59e1fa0e-1d78-4fa5-8406-18b6c4d3f585",
   "metadata": {},
   "outputs": [],
   "source": [
    "import os\n",
    "from dotenv import load_dotenv\n",
    "import gradio as gr\n",
    "import requests\n",
    "import whisper"
   ]
  },
  {
   "cell_type": "code",
   "execution_count": 2,
   "id": "a8504a75-3f9a-4e64-bf72-9bf2877f2272",
   "metadata": {},
   "outputs": [],
   "source": [
    "#Load environment variables from .env\n",
    "load_dotenv()\n",
    "API_KEY = os.getenv(\"OPENROUTER_API_KEY\")"
   ]
  },
  {
   "cell_type": "code",
   "execution_count": 3,
   "id": "56984809-024a-4752-b02e-df8fd83d8b02",
   "metadata": {},
   "outputs": [],
   "source": [
    "#Load Whisper model\n",
    "whisper_model = whisper.load_model(\"base\")"
   ]
  },
  {
   "cell_type": "code",
   "execution_count": 4,
   "id": "c7e330f7-1894-4889-80e2-9bdb77ed4247",
   "metadata": {},
   "outputs": [],
   "source": [
    "def voice_to_deepseek(audio_file):\n",
    "    if not audio_file:\n",
    "        return \"Please provide a voice input.\"\n",
    "\n",
    "    # Step 1: Transcribe audio to text using Whisper\n",
    "    result = whisper_model.transcribe(audio_file)\n",
    "    transcribed_text = result[\"text\"]\n",
    "\n",
    "    if not transcribed_text.strip():\n",
    "        return \"Couldn't understand the audio.\"\n",
    "\n",
    "    # Step 2: Send transcribed text to DeepSeek via OpenRouter\n",
    "    headers = {\n",
    "        \"Authorization\": f\"Bearer {API_KEY}\",\n",
    "        \"Content-Type\": \"application/json\"\n",
    "    }\n",
    "\n",
    "    payload = {\n",
    "        \"model\": \"deepseek/deepseek-r1-0528:free\",\n",
    "        \"messages\": [\n",
    "            {\"role\": \"system\", \"content\": \"You are a helpful AI assistant.\"},\n",
    "            {\"role\": \"user\", \"content\": transcribed_text}\n",
    "        ]\n",
    "    }\n",
    "\n",
    "    response = requests.post(\n",
    "        \"https://openrouter.ai/api/v1/chat/completions\",\n",
    "        headers=headers,\n",
    "        json=payload\n",
    "    )\n",
    "\n",
    "    if response.status_code == 200:\n",
    "        return response.json()[\"choices\"][0][\"message\"][\"content\"]\n",
    "    else:\n",
    "        return f\"Error {response.status_code}: {response.text}\""
   ]
  },
  {
   "cell_type": "code",
   "execution_count": 5,
   "id": "21c0e1fc-a6a0-4639-927e-2022e7a96a86",
   "metadata": {},
   "outputs": [
    {
     "name": "stdout",
     "output_type": "stream",
     "text": [
      "* Running on local URL:  http://127.0.0.1:7861\n",
      "* To create a public link, set `share=True` in `launch()`.\n"
     ]
    },
    {
     "data": {
      "text/html": [
       "<div><iframe src=\"http://127.0.0.1:7861/\" width=\"100%\" height=\"500\" allow=\"autoplay; camera; microphone; clipboard-read; clipboard-write;\" frameborder=\"0\" allowfullscreen></iframe></div>"
      ],
      "text/plain": [
       "<IPython.core.display.HTML object>"
      ]
     },
     "metadata": {},
     "output_type": "display_data"
    },
    {
     "data": {
      "text/plain": []
     },
     "execution_count": 5,
     "metadata": {},
     "output_type": "execute_result"
    },
    {
     "name": "stderr",
     "output_type": "stream",
     "text": [
      "C:\\AI assiss\\class_env\\Lib\\site-packages\\whisper\\transcribe.py:126: UserWarning: FP16 is not supported on CPU; using FP32 instead\n",
      "  warnings.warn(\"FP16 is not supported on CPU; using FP32 instead\")\n"
     ]
    }
   ],
   "source": [
    "#Gradio Voice-Only UI\n",
    "iface = gr.Interface(\n",
    "    fn=voice_to_deepseek,\n",
    "    inputs=gr.Audio(type=\"filepath\", label=\"Speak your question\"),\n",
    "    outputs=gr.Textbox(label=\"DeepSeek Response\"),\n",
    "    title=\"Voice Q&A with DeepSeek + Whisper\",\n",
    "    description=\"Speak your question. Whisper transcribes it, DeepSeek answers it via OpenRouter.\"\n",
    ")\n",
    "\n",
    "iface.launch()"
   ]
  },
  {
   "cell_type": "code",
   "execution_count": null,
   "id": "8fa505f7-03e0-48be-b619-30b7d4bab87c",
   "metadata": {},
   "outputs": [],
   "source": []
  }
 ],
 "metadata": {
  "kernelspec": {
   "display_name": "Python (class-env)",
   "language": "python",
   "name": "class_env"
  },
  "language_info": {
   "codemirror_mode": {
    "name": "ipython",
    "version": 3
   },
   "file_extension": ".py",
   "mimetype": "text/x-python",
   "name": "python",
   "nbconvert_exporter": "python",
   "pygments_lexer": "ipython3",
   "version": "3.12.2"
  }
 },
 "nbformat": 4,
 "nbformat_minor": 5
}
