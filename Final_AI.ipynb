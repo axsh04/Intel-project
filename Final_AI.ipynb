{
 "cells": [
  {
   "cell_type": "code",
   "execution_count": 12,
   "id": "0512a741-a361-4072-9164-b19d1550ae6d",
   "metadata": {},
   "outputs": [],
   "source": [
    "import gradio as gr\n",
    "import whisper\n",
    "from gtts import gTTS\n",
    "import requests\n",
    "import tempfile\n",
    "import base64\n",
    "import os"
   ]
  },
  {
   "cell_type": "code",
   "execution_count": 13,
   "id": "14a7aa12-ba65-4e90-978c-770d116d2a7c",
   "metadata": {},
   "outputs": [],
   "source": [
    "#Load environment variables from .env\n",
    "from dotenv import load_dotenv\n",
    "load_dotenv()\n",
    "API_KEY = os.getenv(\"OPENROUTER_API_KEY\")"
   ]
  },
  {
   "cell_type": "code",
   "execution_count": 14,
   "id": "29fb4030-0d10-48bf-8eb6-360e14b20722",
   "metadata": {},
   "outputs": [],
   "source": [
    "# Load Whisper model\n",
    "whisper_model = whisper.load_model(\"base\")"
   ]
  },
  {
   "cell_type": "code",
   "execution_count": 15,
   "id": "a827ef80-945c-4037-81f8-d30055bdd175",
   "metadata": {},
   "outputs": [],
   "source": [
    "def initialize_messages():\n",
    "    return [{\n",
    "        \"role\": \"system\",\n",
    "        \"content\": (\n",
    "            \"You are an AI teacher built for classrooms. Answer with examples, analogies, and help students learn. \"\n",
    "            \"Also, suggest relevant images and YouTube video links where appropriate.\"\n",
    "            \"Respond without using symbols like @, #, %, $, &, *, etc.\"\n",
    "\n",
    "        )\n",
    "    }]\n",
    "\n",
    "messages_prmt = initialize_messages()"
   ]
  },
  {
   "cell_type": "code",
   "execution_count": 16,
   "id": "05a092ed-0b35-425c-9a49-38285bd40e1f",
   "metadata": {},
   "outputs": [],
   "source": [
    "# Convert text to base64 audio\n",
    "def text_to_base64_audio(text):\n",
    "    tts = gTTS(text)\n",
    "    with tempfile.NamedTemporaryFile(delete=False, suffix=\".mp3\") as temp_audio:\n",
    "        tts.save(temp_audio.name)\n",
    "        audio_data = open(temp_audio.name, \"rb\").read()\n",
    "    os.remove(temp_audio.name)\n",
    "    return base64.b64encode(audio_data).decode(\"utf-8\")"
   ]
  },
  {
   "cell_type": "code",
   "execution_count": 17,
   "id": "0e52e83d-f012-4ad5-a929-06d3709204b4",
   "metadata": {},
   "outputs": [],
   "source": [
    "# Get YouTube video search link\n",
    "def get_youtube_search_link(query):\n",
    "    return f\"https://www.youtube.com/results?search_query={query.replace(' ', '+')}\""
   ]
  },
  {
   "cell_type": "code",
   "execution_count": 18,
   "id": "0baf559c-d152-4f14-aa84-d02d7a606321",
   "metadata": {},
   "outputs": [],
   "source": [
    "# Get Unsplash or DuckDuckGo image search link\n",
    "def get_image_search_link(query):\n",
    "    return f\"https://duckduckgo.com/?q={query.replace(' ', '+')}&iax=images&ia=images\""
   ]
  },
  {
   "cell_type": "code",
   "execution_count": 19,
   "id": "c445f141-9c6d-447f-b9ac-42a06e724389",
   "metadata": {},
   "outputs": [],
   "source": [
    "# Main function\n",
    "def voice_teacher(audio_file):\n",
    "    global messages_prmt\n",
    "\n",
    "    # Step 1: Transcribe voice\n",
    "    transcription = whisper_model.transcribe(audio_file)[\"text\"]\n",
    "    messages_prmt.append({\"role\": \"user\", \"content\": transcription})\n",
    "\n",
    "    # Step 2: Query OpenRouter\n",
    "    headers = {\n",
    "        \"Authorization\": f\"Bearer {API_KEY}\",\n",
    "        \"Content-Type\": \"application/json\"\n",
    "    }\n",
    "    data = {\n",
    "        \"model\": \"deepseek/deepseek-r1-0528:free\",\n",
    "        \"messages\": messages_prmt\n",
    "    }\n",
    "    response = requests.post(\"https://openrouter.ai/api/v1/chat/completions\", headers=headers, json=data)\n",
    "    result = response.json()\n",
    "\n",
    "    #Add these two lines immediately after the above\n",
    "    print(\"Status code:\", response.status_code)\n",
    "    print(\"Full response:\", result)\n",
    "\n",
    "    if \"choices\" not in result:\n",
    "        return \"<p>Sorry, something went wrong with OpenRouter!</p>\"\n",
    "\n",
    "    bot_reply = result[\"choices\"][0][\"message\"][\"content\"]\n",
    "    messages_prmt.append({\"role\": \"assistant\", \"content\": bot_reply})\n",
    "\n",
    "    # Step 3: Convert to audio\n",
    "    b64_audio = text_to_base64_audio(bot_reply)\n",
    "\n",
    "    # Step 4: Extract key topic for image/video\n",
    "    keyword = transcription.strip().split(\"?\")[0] if \"?\" in transcription else transcription\n",
    "    youtube_link = get_youtube_search_link(keyword)\n",
    "    image_link = get_image_search_link(keyword)\n",
    "\n",
    "    # Step 5: Return enhanced HTML\n",
    "    audio_html = f\"\"\"\n",
    "    <p><b>You asked:</b> {transcription}</p>\n",
    "    <p><b>AI says:</b> {bot_reply}</p>\n",
    "    <audio autoplay controls style=\"width: 100%;\">\n",
    "        <source src=\"data:audio/mp3;base64,{b64_audio}\" type=\"audio/mp3\">\n",
    "        Your browser does not support the audio element.\n",
    "    </audio>\n",
    "    <p><b>Related Image Search:</b> <a href=\"{image_link}\" target=\"_blank\">View Images</a></p>\n",
    "    <p><b>Related Video:</b> <a href=\"{youtube_link}\" target=\"_blank\">Watch on YouTube</a></p>\n",
    "    \"\"\"\n",
    "\n",
    "    return audio_html"
   ]
  },
  {
   "cell_type": "code",
   "execution_count": 20,
   "id": "7891c27d-23ef-497e-b0ec-aa1c1b7da56a",
   "metadata": {},
   "outputs": [
    {
     "name": "stdout",
     "output_type": "stream",
     "text": [
      "* Running on local URL:  http://127.0.0.1:7863\n",
      "\n",
      "Could not create share link. Please check your internet connection or our status page: https://status.gradio.app.\n"
     ]
    },
    {
     "data": {
      "text/html": [
       "<div><iframe src=\"http://127.0.0.1:7863/\" width=\"100%\" height=\"500\" allow=\"autoplay; camera; microphone; clipboard-read; clipboard-write;\" frameborder=\"0\" allowfullscreen></iframe></div>"
      ],
      "text/plain": [
       "<IPython.core.display.HTML object>"
      ]
     },
     "metadata": {},
     "output_type": "display_data"
    },
    {
     "data": {
      "text/plain": []
     },
     "execution_count": 20,
     "metadata": {},
     "output_type": "execute_result"
    },
    {
     "name": "stderr",
     "output_type": "stream",
     "text": [
      "C:\\AI assiss\\class_env\\Lib\\site-packages\\whisper\\transcribe.py:126: UserWarning: FP16 is not supported on CPU; using FP32 instead\n",
      "  warnings.warn(\"FP16 is not supported on CPU; using FP32 instead\")\n"
     ]
    },
    {
     "name": "stdout",
     "output_type": "stream",
     "text": [
      "Status code: 200\n",
      "Full response: {'id': 'gen-1752247705-ZUtCzsEKERAao2KWR6t3', 'provider': 'Chutes', 'model': 'deepseek/deepseek-r1-0528:free', 'object': 'chat.completion', 'created': 1752247705, 'choices': [{'logprobs': None, 'finish_reason': 'stop', 'native_finish_reason': 'stop', 'index': 0, 'message': {'role': 'assistant', 'content': 'Sure! I\\'ll explain a system (like an **Ecosystem**) using simple terms, examples, and analogies—just like I’d teach in a classroom. Let’s break it down step by step:  \\n\\n---\\n\\n### 🍃 **What’s a System?**  \\nA system is a group of parts that work together as a whole. Imagine a bicycle:  \\n- **Parts:** Wheels, pedals, chain, handlebars.  \\n- **How they work together:** Pedals turn the chain, which spins the wheels, letting you move.  \\nIf one part breaks (e.g., the chain), the whole system fails.  \\n\\n---\\n\\n### 🌳 **Example: Forest Ecosystem**  \\n**Definition:** A community of plants, animals, and tiny organisms interacting with their environment.  \\n\\n#### 🔑 **Parts (Components)**  \\n1. **Living Things (Biotic Factors):**  \\n   - Producers: Trees and plants (make food via sunlight).  \\n   - Consumers: Deer, birds (eat plants or other animals).  \\n   - Decomposers: Fungi (break down dead stuff).  \\n\\n2. **Non-Living Things (Abiotic Factors):**  \\n   - Soil, water, sunlight, temperature.  \\n\\n#### ⚙️ **How It Works Together (Interactions)**  \\n- **Food Chain Example:**  \\n  🌞 Sun → 🌿 Grass (producer) → 🐇 Rabbit (consumer) → 🦊 Fox (consumer) → 🍄 Fungi (decomposer).  \\n  → Fungi recycle nutrients back into the soil for grass to grow.  \\n\\n- **Analogy:** Think of it like a soccer team.  \\n  - Players (plants/animals) + Equipment (soil/water) + Coach (sunlight) = Team (ecosystem).  \\n  - If the goalie (predator like a fox) vanishes, rabbits overeat grass, and the field (habitat) gets damaged.  \\n\\n#### 🌧️ **Real-Life Example:**  \\nIn a pond, algae → fish → herons → bacteria. If pollution (like oil) enters, algae die → fish starve → herons leave → bacteria can’t decompose waste. The whole system collapses!  \\n\\n---\\n\\n### 📸 **Helpful Visuals**  \\n- **Image Suggestion:** A diagram showing a food web with arrows linking plants, animals, and decomposers.  \\n- **YouTube Video:** [\"How Ecosystems Work\" by Crash Course Kids](https://www.youtube.com/watch?v=v6ubvEJ3KGM). Shows interactions with animations!  \\n\\n---\\n\\n### 💡 **Key Takeaway**  \\nSystems rely on balance—like a recipe. Too much or too little of one ingredient (e.g., water, predators) can ruin the whole dish!  \\n\\nWant to explore another system (e.g., solar system, human body)? Just ask! 😊', 'refusal': None, 'reasoning': 'We are going to explain the \"system\" that the user is referring to. Since the context is not entirely clear, but the user said \"in the same way\", we can assume they are referring to a previous explanation style. \\n\\nHowever, without previous context in the current conversation, we might need to make an educated guess. The user\\'s initial request was: \"Explanate the system in the same way.\"\\n\\nGiven that the assistant was built for classrooms, and the instruction is to use examples, analogies, and suggest images and video links, we can assume the user is asking for an explanation of a \"system\" (perhaps a body system, computer system, or ecosystem) in an engaging, educational manner.\\n\\nLet\\'s consider a common classroom topic: the water cycle. We\\'ll use that as an example system to explain.\\n\\nBut note: the user might be referring to a specific system they were discussing earlier. Since we don\\'t have that context, we\\'ll go with a general approach.\\n\\nHere\\'s a structured plan for the response:\\n1. Introduce the system with a simple definition.\\n2. Break it down into key components or stages.\\n3. Use a relatable analogy.\\n4. Give a real-world example.\\n5. Suggest an image and a YouTube video that could help.\\n\\nWe\\'ll explain the water cycle as an example of a system.\\n\\nResponse:\\n'}}], 'usage': {'prompt_tokens': 65, 'completion_tokens': 871, 'total_tokens': 936}}\n"
     ]
    }
   ],
   "source": [
    "# Gradio interface\n",
    "iface = gr.Interface(\n",
    "    fn=voice_teacher,\n",
    "    inputs=gr.Audio(type=\"filepath\", label=\"Speak your question\"),\n",
    "    outputs=gr.HTML(),\n",
    "    title=\"Voice-Enabled AI Teacher\",\n",
    "    description=\"Speak a question. Get a spoken answer with images and videos!\",\n",
    ")\n",
    "\n",
    "iface.launch(share=True)"
   ]
  },
  {
   "cell_type": "code",
   "execution_count": null,
   "id": "36612735-050d-4689-a9a9-8b6aba0a52b9",
   "metadata": {},
   "outputs": [],
   "source": []
  }
 ],
 "metadata": {
  "kernelspec": {
   "display_name": "Python (class-env)",
   "language": "python",
   "name": "class_env"
  },
  "language_info": {
   "codemirror_mode": {
    "name": "ipython",
    "version": 3
   },
   "file_extension": ".py",
   "mimetype": "text/x-python",
   "name": "python",
   "nbconvert_exporter": "python",
   "pygments_lexer": "ipython3",
   "version": "3.12.2"
  }
 },
 "nbformat": 4,
 "nbformat_minor": 5
}
